{
 "cells": [
  {
   "cell_type": "code",
   "execution_count": 1,
   "id": "7d1bf6d8",
   "metadata": {},
   "outputs": [],
   "source": [
    "import numpy as np\n",
    "import pandas as pd\n",
    "import seaborn as sns\n",
    "import matplotlib.pyplot as plt\n",
    "\n",
    "from utils import create_sliding_window, restore_labels"
   ]
  },
  {
   "cell_type": "code",
   "execution_count": 2,
   "id": "f0513518",
   "metadata": {},
   "outputs": [],
   "source": []
  },
  {
   "cell_type": "markdown",
   "id": "1f67fab6",
   "metadata": {},
   "source": [
    "  "
   ]
  },
  {
   "cell_type": "code",
   "execution_count": null,
   "id": "81440f35",
   "metadata": {},
   "outputs": [],
   "source": [
    "#ЭКСГАУСТЕР №4"
   ]
  },
  {
   "cell_type": "code",
   "execution_count": 3,
   "id": "44acdc23",
   "metadata": {},
   "outputs": [],
   "source": [
    "X_columns = [\n",
    "       'ЭКСГАУСТЕР 4. ТОК РОТОРА 1', 'ЭКСГАУСТЕР 4. ТОК РОТОРА2',\n",
    "       'ЭКСГАУСТЕР 4. ТОК СТАТОРА', 'ЭКСГАУСТЕР 4. ДАВЛЕНИЕ МАСЛА В СИСТЕМЕ',\n",
    "       'ЭКСГАУСТЕР 4. ТЕМПЕРАТУРА ПОДШИПНИКА НА ОПОРЕ 1',\n",
    "       'ЭКСГАУСТЕР 4. ТЕМПЕРАТУРА ПОДШИПНИКА НА ОПОРЕ 2',\n",
    "       'ЭКСГАУСТЕР 4. ТЕМПЕРАТУРА ПОДШИПНИКА НА ОПОРЕ 3',\n",
    "       'ЭКСГАУСТЕР 4. ТЕМПЕРАТУРА ПОДШИПНИКА НА ОПОРЕ 4',\n",
    "       'ЭКСГАУСТЕР 4. ТЕМПЕРАТУРА МАСЛА В СИСТЕМЕ',\n",
    "       'ЭКСГАУСТЕР 4. ТЕМПЕРАТУРА МАСЛА В МАСЛОБЛОКЕ',\n",
    "       'ЭКСГАУСТЕР 4. ВИБРАЦИЯ НА ОПОРЕ 1',\n",
    "       'ЭКСГАУСТЕР 4. ВИБРАЦИЯ НА ОПОРЕ 2',\n",
    "       'ЭКСГАУСТЕР 4. ВИБРАЦИЯ НА ОПОРЕ 3',\n",
    "       'ЭКСГАУСТЕР 4. ВИБРАЦИЯ НА ОПОРЕ 3. ПРОДОЛЬНАЯ.',\n",
    "       'ЭКСГАУСТЕР 4. ВИБРАЦИЯ НА ОПОРЕ 4',\n",
    "       'ЭКСГАУСТЕР 4. ВИБРАЦИЯ НА ОПОРЕ 4. ПРОДОЛЬНАЯ.']"
   ]
  },
  {
   "cell_type": "code",
   "execution_count": 4,
   "id": "edae1e8b",
   "metadata": {},
   "outputs": [],
   "source": [
    "y_columns = [\n",
    "    'Y_ЭКСГАУСТЕР А/М №4_ЭЛЕКТРОДВИГАТЕЛЬ ДСПУ-140-84-4 ЭКСГ. №4',\n",
    "    'Y_ЭКСГАУСТЕР А/М №4_ПОДШИПНИК ОПОРНЫЙ ЭКСГ. №4',\n",
    "    'Y_ЭКСГАУСТЕР А/М №4_УЛИТА ЭКСГ. №4',\n",
    "    'Y_ЭКСГАУСТЕР А/М №4_РЕДУКТОР ГАЗ. ЗАДВИЖКИ ЭКСГ. №4',\n",
    "    'Y_ЭКСГАУСТЕР А/М №4_МАСЛОНАСОС РАБОЧИЙ ЭКСГ. №4',\n",
    "    'Y_ЭКСГАУСТЕР А/М №4_ЭЛЕКТРОАППАРАТУРА ЭКСГ. №4',\n",
    "    'Y_ЭКСГАУСТЕР А/М №4_ПОДШИПНИК ОПОРНЫЙ №2 ЭКСГ. №4',\n",
    "    'Y_ЭКСГАУСТЕР А/М №4_ЗАДВИЖКА ЭКСГ. №4',\n",
    "    'Y_ЭКСГАУСТЕР А/М №4_ГСМ ЭКСГ. №4',\n",
    "    'Y_ЭКСГАУСТЕР А/М №4_ВК 310С ВИБРОПРЕОБРАЗОВАТЕЛЬ ЭКСГ.№4 Т.1',\n",
    "    'Y_ЭКСГАУСТЕР А/М №4_ТСМТ-101-010-50М-400 ТЕРМОПР.ПОДШ.Т.1',\n",
    "    'Y_ЭКСГАУСТЕР А/М №4_РОТОР ЭКСГ. №4',\n",
    "    'Y_ЭКСГАУСТЕР А/М №4_МАСЛООХЛАДИТЕЛЬ  М-05-1 ЭКСГ. №4',\n",
    "    'Y_ЭКСГАУСТЕР А/М №4_ПОДШИПНИК ОПОРНО-УПОРНЫЙ ЭКСГ. №4',\n",
    "    'Y_ЭКСГАУСТЕР А/М №4_ЭКСГАУСТЕР А/М №4',\n",
    "    'Y_ЭКСГАУСТЕР А/М №4_ЗАП. И РЕГ. АРМАТУРА ЭКСГ.№4',\n",
    "    'Y_ЭКСГАУСТЕР А/М №4_ПОДШИПНИК ОПОРНЫЙ №1 ЭКСГ. №4',\n",
    "    'Y_ЭКСГАУСТЕР А/М №4_ЭЛ/ДВИГАТЕЛЬ ГАЗ. ЗАДВИЖКИ ЭКСГ. №4',\n",
    "    'Y_ЭКСГАУСТЕР А/М №4_КЛ1 ТР№4 ДО ЭД ЭКСГАУСТЕРА №4',\n",
    "    'Y_ЭКСГАУСТЕР А/М №4_КЛ2 ТР№4 ДО ЭД ЭКСГАУСТЕРА №4',\n",
    "    'Y_ЭКСГАУСТЕР А/М №4_ТР-Р ТМ-4000-10/6 ЭКСГ. №4',\n",
    "    'Y_ЭКСГАУСТЕР А/М №4_ТИРИСТ. ВОЗБУДИТЕЛЬ ВТ-РЭМ-400 ЭКСГ4 ВУ1',\n",
    "    'Y_ЭКСГАУСТЕР А/М №4_МАСЛОПРОВОДЫ ЭКСГ №4'\n",
    "]"
   ]
  },
  {
   "cell_type": "code",
   "execution_count": 36,
   "id": "4db2949f",
   "metadata": {},
   "outputs": [],
   "source": [
    "df = pd.read_parquet('../data/X_train.parquet', columns=X_columns)\n",
    "y = pd.read_parquet('../data/y_train.parquet', columns=y_columns)\n",
    "messages = pd.read_excel('../data/messages.xlsx')"
   ]
  },
  {
   "cell_type": "code",
   "execution_count": null,
   "id": "ae5cf550",
   "metadata": {},
   "outputs": [],
   "source": [
    "df.isna().sum() / df.shape[0]"
   ]
  },
  {
   "cell_type": "code",
   "execution_count": 11,
   "id": "23bbd5b6",
   "metadata": {},
   "outputs": [],
   "source": [
    "dfi = df.interpolate()"
   ]
  },
  {
   "cell_type": "code",
   "execution_count": 13,
   "id": "c3311096",
   "metadata": {},
   "outputs": [
    {
     "data": {
      "text/plain": [
       "Y_ЭКСГАУСТЕР А/М №4_ПОДШИПНИК ОПОРНЫЙ ЭКСГ. №4\n",
       "2.0    6725776\n",
       "0.0    2609258\n",
       "Name: count, dtype: int64"
      ]
     },
     "execution_count": 13,
     "metadata": {},
     "output_type": "execute_result"
    }
   ],
   "source": [
    "y = y['Y_ЭКСГАУСТЕР А/М №4_ПОДШИПНИК ОПОРНЫЙ ЭКСГ. №4']\n",
    "\n",
    "y.value_counts()"
   ]
  },
  {
   "cell_type": "code",
   "execution_count": 31,
   "id": "dfc6c48f",
   "metadata": {},
   "outputs": [
    {
     "data": {
      "text/plain": [
       "0"
      ]
     },
     "execution_count": 31,
     "metadata": {},
     "output_type": "execute_result"
    }
   ],
   "source": [
    "y.isna().sum()"
   ]
  },
  {
   "cell_type": "code",
   "execution_count": 23,
   "id": "86318030",
   "metadata": {},
   "outputs": [
    {
     "name": "stdout",
     "output_type": "stream",
     "text": [
      "(981, 10)\n"
     ]
    }
   ],
   "source": [
    "print(messages.shape)"
   ]
  },
  {
   "cell_type": "code",
   "execution_count": 38,
   "id": "82c45bc0",
   "metadata": {},
   "outputs": [
    {
     "data": {
      "text/plain": [
       "130"
      ]
     },
     "execution_count": 38,
     "metadata": {},
     "output_type": "execute_result"
    }
   ],
   "source": [
    "messages['ДАТА_УСТРАНЕНИЯ_НЕИСПРАВНОСТИ'].isna().sum()"
   ]
  },
  {
   "cell_type": "code",
   "execution_count": 39,
   "id": "5fca870b",
   "metadata": {},
   "outputs": [
    {
     "data": {
      "text/html": [
       "<div>\n",
       "<style scoped>\n",
       "    .dataframe tbody tr th:only-of-type {\n",
       "        vertical-align: middle;\n",
       "    }\n",
       "\n",
       "    .dataframe tbody tr th {\n",
       "        vertical-align: top;\n",
       "    }\n",
       "\n",
       "    .dataframe thead th {\n",
       "        text-align: right;\n",
       "    }\n",
       "</style>\n",
       "<table border=\"1\" class=\"dataframe\">\n",
       "  <thead>\n",
       "    <tr style=\"text-align: right;\">\n",
       "      <th></th>\n",
       "      <th>Unnamed: 0</th>\n",
       "      <th>МАШИНА</th>\n",
       "      <th>ИМЯ_МАШИНЫ</th>\n",
       "      <th>ТЕХ_МЕСТО</th>\n",
       "      <th>НАЗВАНИЕ_ТЕХ_МЕСТА</th>\n",
       "      <th>ВИД_СООБЩЕНИЯ</th>\n",
       "      <th>ОПИСАНИЕ</th>\n",
       "      <th>ДАТА_НАЧАЛА_НЕИСПРАВНОСТИ</th>\n",
       "      <th>ДАТА_УСТРАНЕНИЯ_НЕИСПРАВНОСТИ</th>\n",
       "      <th>ТЕКСТ_ГРУППЫ_КОДОВ</th>\n",
       "    </tr>\n",
       "  </thead>\n",
       "  <tbody>\n",
       "    <tr>\n",
       "      <th>0</th>\n",
       "      <td>390</td>\n",
       "      <td>AA2/006-006</td>\n",
       "      <td>ЭКСГАУСТЕР А/М №9</td>\n",
       "      <td>AA2/006-006-002-008</td>\n",
       "      <td>ЗАПОРНАЯ АРМАТУРА ЭКСГАУСТЕРА №9</td>\n",
       "      <td>M3</td>\n",
       "      <td>неисправен двигатель</td>\n",
       "      <td>2019-01-21 00:00:00</td>\n",
       "      <td>2019-02-25 00:00:00</td>\n",
       "      <td>NaN</td>\n",
       "    </tr>\n",
       "    <tr>\n",
       "      <th>1</th>\n",
       "      <td>391</td>\n",
       "      <td>CH-AGP-AG2/011-005</td>\n",
       "      <td>ЭКСГАУСТЕР А/М №9</td>\n",
       "      <td>CH-AGP-AG2/011-005-002</td>\n",
       "      <td>МАСЛОСТАНЦИЯ ЖИДКОЙ СМАЗКИ ЭКСГ. №9</td>\n",
       "      <td>M3</td>\n",
       "      <td>неисправен двигатель</td>\n",
       "      <td>2019-01-21 12:26:10</td>\n",
       "      <td>2019-02-25 00:00:00</td>\n",
       "      <td>NaN</td>\n",
       "    </tr>\n",
       "    <tr>\n",
       "      <th>2</th>\n",
       "      <td>392</td>\n",
       "      <td>AA2/002-006</td>\n",
       "      <td>ЭКСГАУСТЕР А/М №5</td>\n",
       "      <td>AA2/002-006-002-004</td>\n",
       "      <td>МАСЛООХЛАДИТЕЛЬ  М-05-1 ЭКСГ. №5</td>\n",
       "      <td>M3</td>\n",
       "      <td>менять прокладку на подачу воды в охлади</td>\n",
       "      <td>2019-01-21 15:35:30</td>\n",
       "      <td>2019-01-23 11:00:00</td>\n",
       "      <td>NaN</td>\n",
       "    </tr>\n",
       "    <tr>\n",
       "      <th>3</th>\n",
       "      <td>393</td>\n",
       "      <td>CH-AGP-AG2/003-005</td>\n",
       "      <td>ЭКСГАУСТЕР А/М №5</td>\n",
       "      <td>CH-AGP-AG2/003-005-002-004</td>\n",
       "      <td>МАСЛООХЛАДИТЕЛЬ  М-05-1 ЭКСГ. №5</td>\n",
       "      <td>M3</td>\n",
       "      <td>менять прокладку на подачу воды в охлади</td>\n",
       "      <td>2019-01-21 16:33:00</td>\n",
       "      <td>2019-01-22 00:00:00</td>\n",
       "      <td>NaN</td>\n",
       "    </tr>\n",
       "    <tr>\n",
       "      <th>4</th>\n",
       "      <td>394</td>\n",
       "      <td>CH-AGP-AG2/003-005</td>\n",
       "      <td>ЭКСГАУСТЕР А/М №5</td>\n",
       "      <td>CH-AGP-AG2/003-005-002-004</td>\n",
       "      <td>МАСЛООХЛАДИТЕЛЬ  М-05-1 ЭКСГ. №5</td>\n",
       "      <td>M3</td>\n",
       "      <td>менять прокладку на подачу воды в охлади</td>\n",
       "      <td>2019-01-21 16:36:10</td>\n",
       "      <td>2019-06-04 15:35:20</td>\n",
       "      <td>NaN</td>\n",
       "    </tr>\n",
       "  </tbody>\n",
       "</table>\n",
       "</div>"
      ],
      "text/plain": [
       "   Unnamed: 0              МАШИНА         ИМЯ_МАШИНЫ   \n",
       "0         390         AA2/006-006  ЭКСГАУСТЕР А/М №9  \\\n",
       "1         391  CH-AGP-AG2/011-005  ЭКСГАУСТЕР А/М №9   \n",
       "2         392         AA2/002-006  ЭКСГАУСТЕР А/М №5   \n",
       "3         393  CH-AGP-AG2/003-005  ЭКСГАУСТЕР А/М №5   \n",
       "4         394  CH-AGP-AG2/003-005  ЭКСГАУСТЕР А/М №5   \n",
       "\n",
       "                    ТЕХ_МЕСТО                   НАЗВАНИЕ_ТЕХ_МЕСТА   \n",
       "0         AA2/006-006-002-008     ЗАПОРНАЯ АРМАТУРА ЭКСГАУСТЕРА №9  \\\n",
       "1      CH-AGP-AG2/011-005-002  МАСЛОСТАНЦИЯ ЖИДКОЙ СМАЗКИ ЭКСГ. №9   \n",
       "2         AA2/002-006-002-004     МАСЛООХЛАДИТЕЛЬ  М-05-1 ЭКСГ. №5   \n",
       "3  CH-AGP-AG2/003-005-002-004     МАСЛООХЛАДИТЕЛЬ  М-05-1 ЭКСГ. №5   \n",
       "4  CH-AGP-AG2/003-005-002-004     МАСЛООХЛАДИТЕЛЬ  М-05-1 ЭКСГ. №5   \n",
       "\n",
       "  ВИД_СООБЩЕНИЯ                                  ОПИСАНИЕ   \n",
       "0            M3                      неисправен двигатель  \\\n",
       "1            M3                      неисправен двигатель   \n",
       "2            M3  менять прокладку на подачу воды в охлади   \n",
       "3            M3  менять прокладку на подачу воды в охлади   \n",
       "4            M3  менять прокладку на подачу воды в охлади   \n",
       "\n",
       "  ДАТА_НАЧАЛА_НЕИСПРАВНОСТИ ДАТА_УСТРАНЕНИЯ_НЕИСПРАВНОСТИ ТЕКСТ_ГРУППЫ_КОДОВ  \n",
       "0       2019-01-21 00:00:00           2019-02-25 00:00:00                NaN  \n",
       "1       2019-01-21 12:26:10           2019-02-25 00:00:00                NaN  \n",
       "2       2019-01-21 15:35:30           2019-01-23 11:00:00                NaN  \n",
       "3       2019-01-21 16:33:00           2019-01-22 00:00:00                NaN  \n",
       "4       2019-01-21 16:36:10           2019-06-04 15:35:20                NaN  "
      ]
     },
     "execution_count": 39,
     "metadata": {},
     "output_type": "execute_result"
    }
   ],
   "source": [
    "# Округление дат\n",
    "\n",
    "messages['ДАТА_НАЧАЛА_НЕИСПРАВНОСТИ'] = messages['ДАТА_НАЧАЛА_НЕИСПРАВНОСТИ'].apply(lambda t: t.ceil('10S'))\n",
    "\n",
    "messages['ДАТА_УСТРАНЕНИЯ_НЕИСПРАВНОСТИ'] = messages['ДАТА_УСТРАНЕНИЯ_НЕИСПРАВНОСТИ'].apply(\n",
    "    lambda t: t.floor('10S') if not pd.isnull(t) else np.nan  # чтобы не округлять NaT\n",
    ")\n",
    "messages.head()"
   ]
  },
  {
   "cell_type": "code",
   "execution_count": 41,
   "id": "b23b65f1",
   "metadata": {},
   "outputs": [
    {
     "data": {
      "text/plain": [
       "130"
      ]
     },
     "execution_count": 41,
     "metadata": {},
     "output_type": "execute_result"
    }
   ],
   "source": [
    "messages['ДАТА_УСТРАНЕНИЯ_НЕИСПРАВНОСТИ'].isna().sum()"
   ]
  },
  {
   "cell_type": "code",
   "execution_count": 9,
   "id": "b117d647",
   "metadata": {},
   "outputs": [
    {
     "name": "stdout",
     "output_type": "stream",
     "text": [
      "(9, 10)\n"
     ]
    },
    {
     "data": {
      "text/html": [
       "<div>\n",
       "<style scoped>\n",
       "    .dataframe tbody tr th:only-of-type {\n",
       "        vertical-align: middle;\n",
       "    }\n",
       "\n",
       "    .dataframe tbody tr th {\n",
       "        vertical-align: top;\n",
       "    }\n",
       "\n",
       "    .dataframe thead th {\n",
       "        text-align: right;\n",
       "    }\n",
       "</style>\n",
       "<table border=\"1\" class=\"dataframe\">\n",
       "  <thead>\n",
       "    <tr style=\"text-align: right;\">\n",
       "      <th></th>\n",
       "      <th>Unnamed: 0</th>\n",
       "      <th>МАШИНА</th>\n",
       "      <th>ИМЯ_МАШИНЫ</th>\n",
       "      <th>ТЕХ_МЕСТО</th>\n",
       "      <th>НАЗВАНИЕ_ТЕХ_МЕСТА</th>\n",
       "      <th>ВИД_СООБЩЕНИЯ</th>\n",
       "      <th>ОПИСАНИЕ</th>\n",
       "      <th>ДАТА_НАЧАЛА_НЕИСПРАВНОСТИ</th>\n",
       "      <th>ДАТА_УСТРАНЕНИЯ_НЕИСПРАВНОСТИ</th>\n",
       "      <th>ТЕКСТ_ГРУППЫ_КОДОВ</th>\n",
       "    </tr>\n",
       "  </thead>\n",
       "  <tbody>\n",
       "    <tr>\n",
       "      <th>58</th>\n",
       "      <td>969</td>\n",
       "      <td>CH-AGP-AG2/001-005</td>\n",
       "      <td>ЭКСГАУСТЕР А/М №4</td>\n",
       "      <td>CH-AGP-AG2/001-005</td>\n",
       "      <td>ЭКСГАУСТЕР А/М №4</td>\n",
       "      <td>M1</td>\n",
       "      <td>ТО</td>\n",
       "      <td>2020-04-10 09:05:10</td>\n",
       "      <td>2020-04-10 09:05:10</td>\n",
       "      <td>ТЕХНИЧЕСКИЕ ПЛАНОВЫЕ</td>\n",
       "    </tr>\n",
       "    <tr>\n",
       "      <th>97</th>\n",
       "      <td>1341</td>\n",
       "      <td>CH-AGP-AG2/001-005</td>\n",
       "      <td>ЭКСГАУСТЕР А/М №4</td>\n",
       "      <td>CH-AGP-AG2/001-005-003-002</td>\n",
       "      <td>РЕДУКТОР ГАЗ. ЗАДВИЖКИ ЭКСГ. №4</td>\n",
       "      <td>M1</td>\n",
       "      <td>ТО(замена редуктора газовой задвижки №4)</td>\n",
       "      <td>2020-10-26 14:07:40</td>\n",
       "      <td>2020-10-26 14:07:40</td>\n",
       "      <td>ТЕХНИЧЕСКИЕ ПЛАНОВЫЕ</td>\n",
       "    </tr>\n",
       "    <tr>\n",
       "      <th>197</th>\n",
       "      <td>518</td>\n",
       "      <td>CH-AGP-AG2/003-005</td>\n",
       "      <td>ЭКСГАУСТЕР А/М №5</td>\n",
       "      <td>CH-AGP-AG2/003-005-001-005-003</td>\n",
       "      <td>ЭЛЕКТРОДВИГАТЕЛЬ ДСПУ-140-84-4 ЭКСГ. №5</td>\n",
       "      <td>M1</td>\n",
       "      <td>ТО (замена щеток на эл/двиг. эксг-ра)</td>\n",
       "      <td>2019-04-23 15:34:30</td>\n",
       "      <td>2019-04-23 15:34:30</td>\n",
       "      <td>ТЕХНИЧЕСКИЕ ПЛАНОВЫЕ</td>\n",
       "    </tr>\n",
       "    <tr>\n",
       "      <th>327</th>\n",
       "      <td>1763</td>\n",
       "      <td>AA2/002-006</td>\n",
       "      <td>ЭКСГАУСТЕР А/М №5</td>\n",
       "      <td>AA2/002-006</td>\n",
       "      <td>ЭКСГАУСТЕР А/М №5</td>\n",
       "      <td>M1</td>\n",
       "      <td>ТО(согласованное)</td>\n",
       "      <td>2021-05-25 22:09:20</td>\n",
       "      <td>2021-05-25 22:09:20</td>\n",
       "      <td>ТЕХНИЧЕСКИЕ ПЛАНОВЫЕ</td>\n",
       "    </tr>\n",
       "    <tr>\n",
       "      <th>328</th>\n",
       "      <td>1765</td>\n",
       "      <td>CH-AGP-AG2/003-005</td>\n",
       "      <td>ЭКСГАУСТЕР А/М №5</td>\n",
       "      <td>CH-AGP-AG2/003-005-003</td>\n",
       "      <td>ГАЗОВАЯ ЗАДВИЖКА ЭКСГАУСТЕРА А/М №5</td>\n",
       "      <td>M1</td>\n",
       "      <td>ТО согласованное</td>\n",
       "      <td>2021-05-26 15:42:40</td>\n",
       "      <td>2021-05-26 15:42:40</td>\n",
       "      <td>ТЕХНИЧЕСКИЕ ПЛАНОВЫЕ</td>\n",
       "    </tr>\n",
       "    <tr>\n",
       "      <th>473</th>\n",
       "      <td>1670</td>\n",
       "      <td>AA2/003-006</td>\n",
       "      <td>ЭКСГАУСТЕР А/М №6</td>\n",
       "      <td>AA2/003-006</td>\n",
       "      <td>ЭКСГАУСТЕР А/М №6</td>\n",
       "      <td>M1</td>\n",
       "      <td>Согласованное ТО</td>\n",
       "      <td>2021-04-17 06:07:00</td>\n",
       "      <td>2021-04-17 06:07:00</td>\n",
       "      <td>ТЕХНИЧЕСКИЕ ПЛАНОВЫЕ</td>\n",
       "    </tr>\n",
       "    <tr>\n",
       "      <th>650</th>\n",
       "      <td>1418</td>\n",
       "      <td>CH-AGP-AG2/007-005</td>\n",
       "      <td>ЭКСГАУСТЕР А/М №7</td>\n",
       "      <td>CH-AGP-AG2/007-005</td>\n",
       "      <td>ЭКСГАУСТЕР А/М №7</td>\n",
       "      <td>M1</td>\n",
       "      <td>ТО согласованное</td>\n",
       "      <td>2020-12-24 09:44:40</td>\n",
       "      <td>2020-12-24 09:44:40</td>\n",
       "      <td>ТЕХНИЧЕСКИЕ ПЛАНОВЫЕ</td>\n",
       "    </tr>\n",
       "    <tr>\n",
       "      <th>664</th>\n",
       "      <td>1484</td>\n",
       "      <td>AA2/004-006</td>\n",
       "      <td>ЭКСГАУСТЕР А/М №7</td>\n",
       "      <td>AA2/004-006</td>\n",
       "      <td>ЭКСГАУСТЕР А/М №7</td>\n",
       "      <td>M1</td>\n",
       "      <td>ТО</td>\n",
       "      <td>2021-01-27 08:17:50</td>\n",
       "      <td>2021-01-27 08:17:50</td>\n",
       "      <td>ТЕХНИЧЕСКИЕ ПЛАНОВЫЕ</td>\n",
       "    </tr>\n",
       "    <tr>\n",
       "      <th>458</th>\n",
       "      <td>1389</td>\n",
       "      <td>CH-AGP-AG2/005-005</td>\n",
       "      <td>ЭКСГАУСТЕР А/М №6</td>\n",
       "      <td>CH-AGP-AG2/005-005-003</td>\n",
       "      <td>ГАЗОВАЯ ЗАДВИЖКА ЭКСГАУСТЕРА А/М №6</td>\n",
       "      <td>M1</td>\n",
       "      <td>выпуск аглопыли из газового коллектора</td>\n",
       "      <td>2020-12-02 17:10:20</td>\n",
       "      <td>2020-12-02 17:10:20</td>\n",
       "      <td>ТЕХНОЛОГИЧЕСКИЕ ПЛАНОВЫЕ</td>\n",
       "    </tr>\n",
       "  </tbody>\n",
       "</table>\n",
       "</div>"
      ],
      "text/plain": [
       "     Unnamed: 0              МАШИНА         ИМЯ_МАШИНЫ   \n",
       "58          969  CH-AGP-AG2/001-005  ЭКСГАУСТЕР А/М №4  \\\n",
       "97         1341  CH-AGP-AG2/001-005  ЭКСГАУСТЕР А/М №4   \n",
       "197         518  CH-AGP-AG2/003-005  ЭКСГАУСТЕР А/М №5   \n",
       "327        1763         AA2/002-006  ЭКСГАУСТЕР А/М №5   \n",
       "328        1765  CH-AGP-AG2/003-005  ЭКСГАУСТЕР А/М №5   \n",
       "473        1670         AA2/003-006  ЭКСГАУСТЕР А/М №6   \n",
       "650        1418  CH-AGP-AG2/007-005  ЭКСГАУСТЕР А/М №7   \n",
       "664        1484         AA2/004-006  ЭКСГАУСТЕР А/М №7   \n",
       "458        1389  CH-AGP-AG2/005-005  ЭКСГАУСТЕР А/М №6   \n",
       "\n",
       "                          ТЕХ_МЕСТО                       НАЗВАНИЕ_ТЕХ_МЕСТА   \n",
       "58               CH-AGP-AG2/001-005                        ЭКСГАУСТЕР А/М №4  \\\n",
       "97       CH-AGP-AG2/001-005-003-002          РЕДУКТОР ГАЗ. ЗАДВИЖКИ ЭКСГ. №4   \n",
       "197  CH-AGP-AG2/003-005-001-005-003  ЭЛЕКТРОДВИГАТЕЛЬ ДСПУ-140-84-4 ЭКСГ. №5   \n",
       "327                     AA2/002-006                        ЭКСГАУСТЕР А/М №5   \n",
       "328          CH-AGP-AG2/003-005-003      ГАЗОВАЯ ЗАДВИЖКА ЭКСГАУСТЕРА А/М №5   \n",
       "473                     AA2/003-006                        ЭКСГАУСТЕР А/М №6   \n",
       "650              CH-AGP-AG2/007-005                        ЭКСГАУСТЕР А/М №7   \n",
       "664                     AA2/004-006                        ЭКСГАУСТЕР А/М №7   \n",
       "458          CH-AGP-AG2/005-005-003      ГАЗОВАЯ ЗАДВИЖКА ЭКСГАУСТЕРА А/М №6   \n",
       "\n",
       "    ВИД_СООБЩЕНИЯ                                  ОПИСАНИЕ   \n",
       "58             M1                                        ТО  \\\n",
       "97             M1  ТО(замена редуктора газовой задвижки №4)   \n",
       "197            M1     ТО (замена щеток на эл/двиг. эксг-ра)   \n",
       "327            M1                         ТО(согласованное)   \n",
       "328            M1                          ТО согласованное   \n",
       "473            M1                          Согласованное ТО   \n",
       "650            M1                          ТО согласованное   \n",
       "664            M1                                        ТО   \n",
       "458            M1    выпуск аглопыли из газового коллектора   \n",
       "\n",
       "    ДАТА_НАЧАЛА_НЕИСПРАВНОСТИ ДАТА_УСТРАНЕНИЯ_НЕИСПРАВНОСТИ   \n",
       "58        2020-04-10 09:05:10           2020-04-10 09:05:10  \\\n",
       "97        2020-10-26 14:07:40           2020-10-26 14:07:40   \n",
       "197       2019-04-23 15:34:30           2019-04-23 15:34:30   \n",
       "327       2021-05-25 22:09:20           2021-05-25 22:09:20   \n",
       "328       2021-05-26 15:42:40           2021-05-26 15:42:40   \n",
       "473       2021-04-17 06:07:00           2021-04-17 06:07:00   \n",
       "650       2020-12-24 09:44:40           2020-12-24 09:44:40   \n",
       "664       2021-01-27 08:17:50           2021-01-27 08:17:50   \n",
       "458       2020-12-02 17:10:20           2020-12-02 17:10:20   \n",
       "\n",
       "           ТЕКСТ_ГРУППЫ_КОДОВ  \n",
       "58       ТЕХНИЧЕСКИЕ ПЛАНОВЫЕ  \n",
       "97       ТЕХНИЧЕСКИЕ ПЛАНОВЫЕ  \n",
       "197      ТЕХНИЧЕСКИЕ ПЛАНОВЫЕ  \n",
       "327      ТЕХНИЧЕСКИЕ ПЛАНОВЫЕ  \n",
       "328      ТЕХНИЧЕСКИЕ ПЛАНОВЫЕ  \n",
       "473      ТЕХНИЧЕСКИЕ ПЛАНОВЫЕ  \n",
       "650      ТЕХНИЧЕСКИЕ ПЛАНОВЫЕ  \n",
       "664      ТЕХНИЧЕСКИЕ ПЛАНОВЫЕ  \n",
       "458  ТЕХНОЛОГИЧЕСКИЕ ПЛАНОВЫЕ  "
      ]
     },
     "execution_count": 9,
     "metadata": {},
     "output_type": "execute_result"
    }
   ],
   "source": [
    "# Найдем плановые ремонты\n",
    "\n",
    "planned_repair_1 = messages[messages.iloc[:, 9] == 'ТЕХНИЧЕСКИЕ ПЛАНОВЫЕ'].copy()\n",
    "planned_repair_2 = messages[messages.iloc[:, 9] == 'ТЕХНОЛОГИЧЕСКИЕ ПЛАНОВЫЕ'].copy()\n",
    "planned_repair = pd.concat([planned_repair_1, planned_repair_2], axis=0)\n",
    "\n",
    "print(planned_repair.shape)\n",
    "planned_repair"
   ]
  },
  {
   "cell_type": "code",
   "execution_count": 41,
   "id": "db03e105",
   "metadata": {},
   "outputs": [
    {
     "data": {
      "text/plain": [
       "(9335034, 16)"
      ]
     },
     "execution_count": 41,
     "metadata": {},
     "output_type": "execute_result"
    }
   ],
   "source": [
    "dfi.shape"
   ]
  },
  {
   "cell_type": "code",
   "execution_count": 14,
   "id": "32e29115",
   "metadata": {},
   "outputs": [],
   "source": [
    "# Уберем плановые ремонты из X и y\n",
    "\n",
    "lst = []\n",
    "\n",
    "start_col = messages['ДАТА_НАЧАЛА_НЕИСПРАВНОСТИ']\n",
    "end_col = messages['ДАТА_УСТРАНЕНИЯ_НЕИСПРАВНОСТИ']\n",
    "\n",
    "for start, end in zip(start_col, end_col):\n",
    "    indexes = dfi.loc[(dfi.index >= start) & (dfi.index <= end)].index\n",
    "    lst.extend(indexes)\n",
    "\n",
    "dfi = dfi.drop(lst)\n",
    "y = y.drop(lst)"
   ]
  },
  {
   "cell_type": "code",
   "execution_count": 15,
   "id": "4a7f7c5d",
   "metadata": {},
   "outputs": [
    {
     "name": "stdout",
     "output_type": "stream",
     "text": [
      "(9334053, 16)\n",
      "(9334053,)\n"
     ]
    }
   ],
   "source": [
    "print(dfi.shape)\n",
    "print(y.shape)"
   ]
  },
  {
   "cell_type": "code",
   "execution_count": null,
   "id": "e38cb198",
   "metadata": {},
   "outputs": [],
   "source": [
    "# Проверить совпадение начала аварии и с авариями без сообщения о завершения"
   ]
  },
  {
   "cell_type": "code",
   "execution_count": 16,
   "id": "8405750d",
   "metadata": {},
   "outputs": [],
   "source": [
    "# Усовершенствовать и в утиль\n",
    "# убрала any(axis=1)\n",
    "#X_train поменяла на X\n",
    "\n",
    "def plot_failure(interval, X):\n",
    "    '''Функция рисует временной ряд на заданном или всём интервале\n",
    "    Цветом выделяются поломки:\n",
    "    зеленый - без аварии\n",
    "    красный - авария без простоя M3\n",
    "    синий - авария с простоем M1\n",
    "    '''\n",
    "    \n",
    "    # Разделяем индексы по поломкам в y\n",
    "    M0_indx = interval.loc[(interval == 0)].index   # без аварий\n",
    "    M1_indx = interval.loc[(interval == 1)].index   # авария с простоем\n",
    "    M3_indx = interval.loc[(interval == 2)].index   # авария без простоя\n",
    "    \n",
    "    # Разделяем Х по поломкам\n",
    "    M0 = X.loc[M0_indx]\n",
    "    print('M0', M0.shape)\n",
    "    M1 = X.loc[M1_indx]\n",
    "    print('M1', M1.shape)\n",
    "    M3 = X.loc[M3_indx]\n",
    "    print('M3', M3.shape)\n",
    "    \n",
    "    plt.figure(figsize=(11, 7))\n",
    "    sns.lineplot(M0, color='green')\n",
    "    sns.lineplot(M1, color='blue')\n",
    "    sns.lineplot(M3, color='red')"
   ]
  },
  {
   "cell_type": "code",
   "execution_count": 17,
   "id": "afa15486",
   "metadata": {},
   "outputs": [
    {
     "name": "stdout",
     "output_type": "stream",
     "text": [
      "M0 (2609000,)\n",
      "M1 (0,)\n",
      "M3 (6725053,)\n"
     ]
    },
    {
     "data": {
      "image/png": "[encoded data removed]",
      "text/plain": [
       "<Figure size 1100x700 with 1 Axes>"
      ]
     },
     "metadata": {},
     "output_type": "display_data"
    }
   ],
   "source": [
    "plot_failure(y, dfi['ЭКСГАУСТЕР 4. ВИБРАЦИЯ НА ОПОРЕ 1'])"
   ]
  },
  {
   "cell_type": "code",
   "execution_count": 49,
   "id": "c1cc1170",
   "metadata": {},
   "outputs": [
    {
     "data": {
      "text/plain": [
       "'Y_ЭКСГАУСТЕР А/М №4_ПОДШИПНИК ОПОРНЫЙ ЭКСГ. №4'"
      ]
     },
     "execution_count": 49,
     "metadata": {},
     "output_type": "execute_result"
    }
   ],
   "source": [
    "# Оставляем начальный интервал X и y до первого сообщения о поломке, не имеющей даты устранения\n",
    "\n",
    "# Находим первое такое сообщение для нужного эксгаустера\n",
    "\n",
    "endless_fail = messages[messages['ДАТА_УСТРАНЕНИЯ_НЕИСПРАВНОСТИ'].isna()].copy()\n",
    "\n",
    "y.name"
   ]
  },
  {
   "cell_type": "code",
   "execution_count": 50,
   "id": "be438947",
   "metadata": {},
   "outputs": [
    {
     "name": "stdout",
     "output_type": "stream",
     "text": [
      "(5, 10)\n"
     ]
    },
    {
     "data": {
      "text/html": [
       "<div>\n",
       "<style scoped>\n",
       "    .dataframe tbody tr th:only-of-type {\n",
       "        vertical-align: middle;\n",
       "    }\n",
       "\n",
       "    .dataframe tbody tr th {\n",
       "        vertical-align: top;\n",
       "    }\n",
       "\n",
       "    .dataframe thead th {\n",
       "        text-align: right;\n",
       "    }\n",
       "</style>\n",
       "<table border=\"1\" class=\"dataframe\">\n",
       "  <thead>\n",
       "    <tr style=\"text-align: right;\">\n",
       "      <th></th>\n",
       "      <th>Unnamed: 0</th>\n",
       "      <th>МАШИНА</th>\n",
       "      <th>ИМЯ_МАШИНЫ</th>\n",
       "      <th>ТЕХ_МЕСТО</th>\n",
       "      <th>НАЗВАНИЕ_ТЕХ_МЕСТА</th>\n",
       "      <th>ВИД_СООБЩЕНИЯ</th>\n",
       "      <th>ОПИСАНИЕ</th>\n",
       "      <th>ДАТА_НАЧАЛА_НЕИСПРАВНОСТИ</th>\n",
       "      <th>ДАТА_УСТРАНЕНИЯ_НЕИСПРАВНОСТИ</th>\n",
       "      <th>ТЕКСТ_ГРУППЫ_КОДОВ</th>\n",
       "    </tr>\n",
       "  </thead>\n",
       "  <tbody>\n",
       "    <tr>\n",
       "      <th>346</th>\n",
       "      <td>842</td>\n",
       "      <td>CH-AGP-AG2/001-005</td>\n",
       "      <td>ЭКСГАУСТЕР А/М №4</td>\n",
       "      <td>CH-AGP-AG2/001-005-001-004</td>\n",
       "      <td>ПОДШИПНИК ОПОРНЫЙ ЭКСГ. №4</td>\n",
       "      <td>M3</td>\n",
       "      <td>утечка масла</td>\n",
       "      <td>2020-01-16 14:27:30</td>\n",
       "      <td>NaT</td>\n",
       "      <td>NaN</td>\n",
       "    </tr>\n",
       "    <tr>\n",
       "      <th>360</th>\n",
       "      <td>865</td>\n",
       "      <td>CH-AGP-AG2/001-005</td>\n",
       "      <td>ЭКСГАУСТЕР А/М №4</td>\n",
       "      <td>CH-AGP-AG2/001-005-001-004</td>\n",
       "      <td>ПОДШИПНИК ОПОРНЫЙ ЭКСГ. №4</td>\n",
       "      <td>M3</td>\n",
       "      <td>течь масла</td>\n",
       "      <td>2020-01-28 17:01:40</td>\n",
       "      <td>NaT</td>\n",
       "      <td>NaN</td>\n",
       "    </tr>\n",
       "    <tr>\n",
       "      <th>370</th>\n",
       "      <td>882</td>\n",
       "      <td>CH-AGP-AG2/001-005</td>\n",
       "      <td>ЭКСГАУСТЕР А/М №4</td>\n",
       "      <td>CH-AGP-AG2/001-005-001-004</td>\n",
       "      <td>ПОДШИПНИК ОПОРНЫЙ ЭКСГ. №4</td>\n",
       "      <td>M3</td>\n",
       "      <td>течь масла</td>\n",
       "      <td>2020-02-09 08:58:30</td>\n",
       "      <td>NaT</td>\n",
       "      <td>NaN</td>\n",
       "    </tr>\n",
       "    <tr>\n",
       "      <th>398</th>\n",
       "      <td>934</td>\n",
       "      <td>CH-AGP-AG2/001-005</td>\n",
       "      <td>ЭКСГАУСТЕР А/М №4</td>\n",
       "      <td>CH-AGP-AG2/001-005-001-004</td>\n",
       "      <td>ПОДШИПНИК ОПОРНЫЙ ЭКСГ. №4</td>\n",
       "      <td>M3</td>\n",
       "      <td>утечка смазки на опорном под-ке №2</td>\n",
       "      <td>2020-03-20 22:20:20</td>\n",
       "      <td>NaT</td>\n",
       "      <td>NaN</td>\n",
       "    </tr>\n",
       "    <tr>\n",
       "      <th>838</th>\n",
       "      <td>1899</td>\n",
       "      <td>CH-AGP-AG2/001-005</td>\n",
       "      <td>ЭКСГАУСТЕР А/М №4</td>\n",
       "      <td>CH-AGP-AG2/001-005-001-004</td>\n",
       "      <td>ПОДШИПНИК ОПОРНЫЙ ЭКСГ. №4</td>\n",
       "      <td>M3</td>\n",
       "      <td>Утечка масла</td>\n",
       "      <td>2021-07-27 11:38:00</td>\n",
       "      <td>NaT</td>\n",
       "      <td>NaN</td>\n",
       "    </tr>\n",
       "  </tbody>\n",
       "</table>\n",
       "</div>"
      ],
      "text/plain": [
       "     Unnamed: 0              МАШИНА         ИМЯ_МАШИНЫ   \n",
       "346         842  CH-AGP-AG2/001-005  ЭКСГАУСТЕР А/М №4  \\\n",
       "360         865  CH-AGP-AG2/001-005  ЭКСГАУСТЕР А/М №4   \n",
       "370         882  CH-AGP-AG2/001-005  ЭКСГАУСТЕР А/М №4   \n",
       "398         934  CH-AGP-AG2/001-005  ЭКСГАУСТЕР А/М №4   \n",
       "838        1899  CH-AGP-AG2/001-005  ЭКСГАУСТЕР А/М №4   \n",
       "\n",
       "                      ТЕХ_МЕСТО          НАЗВАНИЕ_ТЕХ_МЕСТА ВИД_СООБЩЕНИЯ   \n",
       "346  CH-AGP-AG2/001-005-001-004  ПОДШИПНИК ОПОРНЫЙ ЭКСГ. №4            M3  \\\n",
       "360  CH-AGP-AG2/001-005-001-004  ПОДШИПНИК ОПОРНЫЙ ЭКСГ. №4            M3   \n",
       "370  CH-AGP-AG2/001-005-001-004  ПОДШИПНИК ОПОРНЫЙ ЭКСГ. №4            M3   \n",
       "398  CH-AGP-AG2/001-005-001-004  ПОДШИПНИК ОПОРНЫЙ ЭКСГ. №4            M3   \n",
       "838  CH-AGP-AG2/001-005-001-004  ПОДШИПНИК ОПОРНЫЙ ЭКСГ. №4            M3   \n",
       "\n",
       "                               ОПИСАНИЕ ДАТА_НАЧАЛА_НЕИСПРАВНОСТИ   \n",
       "346                        утечка масла       2020-01-16 14:27:30  \\\n",
       "360                          течь масла       2020-01-28 17:01:40   \n",
       "370                          течь масла       2020-02-09 08:58:30   \n",
       "398  утечка смазки на опорном под-ке №2       2020-03-20 22:20:20   \n",
       "838                        Утечка масла       2021-07-27 11:38:00   \n",
       "\n",
       "    ДАТА_УСТРАНЕНИЯ_НЕИСПРАВНОСТИ ТЕКСТ_ГРУППЫ_КОДОВ  \n",
       "346                           NaT                NaN  \n",
       "360                           NaT                NaN  \n",
       "370                           NaT                NaN  \n",
       "398                           NaT                NaN  \n",
       "838                           NaT                NaN  "
      ]
     },
     "execution_count": 50,
     "metadata": {},
     "output_type": "execute_result"
    }
   ],
   "source": [
    "endless_fail = endless_fail[endless_fail['НАЗВАНИЕ_ТЕХ_МЕСТА'].apply(lambda x: x in y.name)]\n",
    "\n",
    "print(endless_fail.shape)\n",
    "endless_fail"
   ]
  },
  {
   "cell_type": "code",
   "execution_count": 63,
   "id": "50a26879",
   "metadata": {},
   "outputs": [
    {
     "name": "stdout",
     "output_type": "stream",
     "text": [
      "2020-01-16 14:47:30\n"
     ]
    }
   ],
   "source": [
    "# Прибавляем 20 минут к первому сообщению\n",
    "\n",
    "date = endless_fail['ДАТА_НАЧАЛА_НЕИСПРАВНОСТИ'].iloc[0] + pd.Timedelta(minutes=20)\n",
    "print(date)\n",
    "\n",
    "X_train = dfi[:date]\n",
    "y_train = y[:date]\n"
   ]
  },
  {
   "cell_type": "code",
   "execution_count": 67,
   "id": "c1de3e9c",
   "metadata": {},
   "outputs": [
    {
     "name": "stdout",
     "output_type": "stream",
     "text": [
      "(3153773, 16)\n",
      "(3153773,)\n"
     ]
    }
   ],
   "source": [
    "print(X_train.shape)\n",
    "print(y_train.shape)"
   ]
  },
  {
   "cell_type": "code",
   "execution_count": 70,
   "id": "1ad3e9e5",
   "metadata": {},
   "outputs": [],
   "source": [
    "X_train.to_csv('../data/processed/ex4_X_all_for_y_2.csv', index=True)\n",
    "y_train.to_csv('../data/processed/ex4_y_2.csv', index=True)"
   ]
  },
  {
   "cell_type": "code",
   "execution_count": null,
   "id": "847deab2",
   "metadata": {},
   "outputs": [],
   "source": []
  },
  {
   "cell_type": "code",
   "execution_count": null,
   "id": "51fd83b0",
   "metadata": {},
   "outputs": [],
   "source": []
  },
  {
   "cell_type": "code",
   "execution_count": null,
   "id": "0e5e4b44",
   "metadata": {},
   "outputs": [],
   "source": []
  }
 ],
 "metadata": {
  "kernelspec": {
   "display_name": "venv",
   "language": "python",
   "name": "venv"
  },
  "language_info": {
   "codemirror_mode": {
    "name": "ipython",
    "version": 3
   },
   "file_extension": ".py",
   "mimetype": "text/x-python",
   "name": "python",
   "nbconvert_exporter": "python",
   "pygments_lexer": "ipython3",
   "version": "3.10.5"
  }
 },
 "nbformat": 4,
 "nbformat_minor": 5
}
